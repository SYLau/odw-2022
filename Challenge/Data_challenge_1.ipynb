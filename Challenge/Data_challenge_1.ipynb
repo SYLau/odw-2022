{
 "cells": [
  {
   "cell_type": "markdown",
   "id": "aac3a339-d2c4-4f68-8224-51149779ae3a",
   "metadata": {},
   "source": [
    "# Data Challenge 1"
   ]
  },
  {
   "cell_type": "code",
   "execution_count": null,
   "id": "537d6044-48cd-4c66-939a-d00fa529e43f",
   "metadata": {},
   "outputs": [],
   "source": []
  }
 ],
 "metadata": {
  "kernelspec": {
   "display_name": "Python 3 (ipykernel)",
   "language": "python",
   "name": "python3"
  },
  "language_info": {
   "codemirror_mode": {
    "name": "ipython",
    "version": 3
   },
   "file_extension": ".py",
   "mimetype": "text/x-python",
   "name": "python",
   "nbconvert_exporter": "python",
   "pygments_lexer": "ipython3",
   "version": "3.9.10"
  }
 },
 "nbformat": 4,
 "nbformat_minor": 5
}
